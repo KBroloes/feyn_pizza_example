{
 "cells": [
  {
   "cell_type": "markdown",
   "metadata": {},
   "source": [
    "# Curing your data preprocessing blues\n",
    "\n",
    "## How I Learned to Stop Encoding and Love the QLattice"
   ]
  },
  {
   "cell_type": "markdown",
   "metadata": {},
   "source": [
    "Data preprocessing is a necessary, but time-consuming, part of any data scientist's workflow. In this article, I'll talk about [Abzu](https://abzu.ai/)'s product, the `QLattice` and the python library, `Feyn`, and how it can help you spend less time on data preprocessing for machine learning tasks - and give you a few bonuses on the way.\n",
    "\n",
    "We're going to go through a data example using a pizza menu I've spent all my spare time digitizing for exactly this purpose.\n",
    "\n",
    "I'm gonna do a short recap on the `QLattice`, but otherwise assume that you've read or will [read this for more information](https://docs.abzu.ai/docs/guides/qlattice.html).\n",
    "\n",
    "We also have a fun, lighter read [introducing the QLattice](https://medium.com/abzuai/a-new-kind-of-ai-7665f8198877)."
   ]
  },
  {
   "cell_type": "markdown",
   "metadata": {},
   "source": [
    "## TLDR; on the QLatttice\n",
    "\n",
    "![Quantum Lattice](https://media.giphy.com/media/l1J3ncbG9KusoZwsw/giphy.gif)\n",
    "\n",
    "The `QLattice` (short for Quantum Lattice) is a machine learning approach developed by [Abzu](https://abzu.ai/) that lets you use an evolutionary approach to finding the best models for your data problem. This is done by continually updating the `QLattice` with your best model structures to narrow the search field and come up with better models as you have them compete with each other.\n",
    "\n",
    "Training works by asking your `QLattice` to generate thousands of graphs (the `QGraph`) containing mappings between your inputs and output, training them and updating your `QLattice` to get even more, and better, graphs.\n",
    "\n",
    "This is done using a python library called `Feyn` \\[/ˈfaɪn/\\], which you can pip install on Windows, OS X, or Linux.\n",
    "\n",
    "If you want to follow along, [you can sign up for free here](https://abzu.ai/sign-up/?code=datasciencemedium)."
   ]
  },
  {
   "cell_type": "markdown",
   "metadata": {},
   "source": [
    "# Let's load in the data real quick\n",
    "\n",
    "We're using `pandas` to load this up real quick from a csv."
   ]
  },
  {
   "cell_type": "code",
   "execution_count": 1,
   "metadata": {},
   "outputs": [
    {
     "data": {
      "text/html": [
       "<div>\n",
       "<style scoped>\n",
       "    .dataframe tbody tr th:only-of-type {\n",
       "        vertical-align: middle;\n",
       "    }\n",
       "\n",
       "    .dataframe tbody tr th {\n",
       "        vertical-align: top;\n",
       "    }\n",
       "\n",
       "    .dataframe thead th {\n",
       "        text-align: right;\n",
       "    }\n",
       "</style>\n",
       "<table border=\"1\" class=\"dataframe\">\n",
       "  <thead>\n",
       "    <tr style=\"text-align: right;\">\n",
       "      <th></th>\n",
       "      <th>type</th>\n",
       "      <th>price</th>\n",
       "      <th>size</th>\n",
       "      <th>vegetarian</th>\n",
       "      <th>dairy</th>\n",
       "      <th>fish</th>\n",
       "      <th>ingredient_count</th>\n",
       "    </tr>\n",
       "  </thead>\n",
       "  <tbody>\n",
       "    <tr>\n",
       "      <th>0</th>\n",
       "      <td>Pizza</td>\n",
       "      <td>42</td>\n",
       "      <td>lunch</td>\n",
       "      <td>False</td>\n",
       "      <td>True</td>\n",
       "      <td>False</td>\n",
       "      <td>4</td>\n",
       "    </tr>\n",
       "    <tr>\n",
       "      <th>1</th>\n",
       "      <td>Pizza</td>\n",
       "      <td>42</td>\n",
       "      <td>lunch</td>\n",
       "      <td>True</td>\n",
       "      <td>True</td>\n",
       "      <td>False</td>\n",
       "      <td>4</td>\n",
       "    </tr>\n",
       "    <tr>\n",
       "      <th>2</th>\n",
       "      <td>Pizza</td>\n",
       "      <td>42</td>\n",
       "      <td>lunch</td>\n",
       "      <td>False</td>\n",
       "      <td>True</td>\n",
       "      <td>False</td>\n",
       "      <td>4</td>\n",
       "    </tr>\n",
       "    <tr>\n",
       "      <th>3</th>\n",
       "      <td>Pizza</td>\n",
       "      <td>42</td>\n",
       "      <td>lunch</td>\n",
       "      <td>False</td>\n",
       "      <td>True</td>\n",
       "      <td>False</td>\n",
       "      <td>4</td>\n",
       "    </tr>\n",
       "    <tr>\n",
       "      <th>4</th>\n",
       "      <td>Pizza</td>\n",
       "      <td>42</td>\n",
       "      <td>lunch</td>\n",
       "      <td>False</td>\n",
       "      <td>True</td>\n",
       "      <td>False</td>\n",
       "      <td>4</td>\n",
       "    </tr>\n",
       "    <tr>\n",
       "      <th>...</th>\n",
       "      <td>...</td>\n",
       "      <td>...</td>\n",
       "      <td>...</td>\n",
       "      <td>...</td>\n",
       "      <td>...</td>\n",
       "      <td>...</td>\n",
       "      <td>...</td>\n",
       "    </tr>\n",
       "    <tr>\n",
       "      <th>167</th>\n",
       "      <td>Pizza</td>\n",
       "      <td>103</td>\n",
       "      <td>family</td>\n",
       "      <td>True</td>\n",
       "      <td>True</td>\n",
       "      <td>False</td>\n",
       "      <td>3</td>\n",
       "    </tr>\n",
       "    <tr>\n",
       "      <th>168</th>\n",
       "      <td>Pizza</td>\n",
       "      <td>79</td>\n",
       "      <td>regular</td>\n",
       "      <td>False</td>\n",
       "      <td>True</td>\n",
       "      <td>False</td>\n",
       "      <td>6</td>\n",
       "    </tr>\n",
       "    <tr>\n",
       "      <th>169</th>\n",
       "      <td>Pizza</td>\n",
       "      <td>128</td>\n",
       "      <td>family</td>\n",
       "      <td>False</td>\n",
       "      <td>True</td>\n",
       "      <td>False</td>\n",
       "      <td>6</td>\n",
       "    </tr>\n",
       "    <tr>\n",
       "      <th>170</th>\n",
       "      <td>Pizza</td>\n",
       "      <td>79</td>\n",
       "      <td>regular</td>\n",
       "      <td>False</td>\n",
       "      <td>True</td>\n",
       "      <td>False</td>\n",
       "      <td>7</td>\n",
       "    </tr>\n",
       "    <tr>\n",
       "      <th>171</th>\n",
       "      <td>Pizza</td>\n",
       "      <td>128</td>\n",
       "      <td>family</td>\n",
       "      <td>False</td>\n",
       "      <td>True</td>\n",
       "      <td>False</td>\n",
       "      <td>7</td>\n",
       "    </tr>\n",
       "  </tbody>\n",
       "</table>\n",
       "<p>172 rows × 7 columns</p>\n",
       "</div>"
      ],
      "text/plain": [
       "      type  price     size  vegetarian  dairy   fish  ingredient_count\n",
       "0    Pizza     42    lunch       False   True  False                 4\n",
       "1    Pizza     42    lunch        True   True  False                 4\n",
       "2    Pizza     42    lunch       False   True  False                 4\n",
       "3    Pizza     42    lunch       False   True  False                 4\n",
       "4    Pizza     42    lunch       False   True  False                 4\n",
       "..     ...    ...      ...         ...    ...    ...               ...\n",
       "167  Pizza    103   family        True   True  False                 3\n",
       "168  Pizza     79  regular       False   True  False                 6\n",
       "169  Pizza    128   family       False   True  False                 6\n",
       "170  Pizza     79  regular       False   True  False                 7\n",
       "171  Pizza    128   family       False   True  False                 7\n",
       "\n",
       "[172 rows x 7 columns]"
      ]
     },
     "execution_count": 1,
     "metadata": {},
     "output_type": "execute_result"
    }
   ],
   "source": [
    "import pandas as pd\n",
    "\n",
    "pizza = pd.read_csv('pizza_dataset.csv').drop(['no', 'name', 'ingredients'], axis=1)\n",
    "pizza"
   ]
  },
  {
   "cell_type": "markdown",
   "metadata": {},
   "source": [
    "We've dropped some unique identifiers to avoid encouraging memorization, and that holds for the comma-separated list of ingredients in the dataset too (since they're mostly unique per pizza). We have kept tangential information instead. We could do further work to use more of the ingredients feature, but we'll leave that as an exercise for now as our objective is not training a perfect model.\n",
    "\n",
    "After loading, admittedly, this dataset is already a lot nicer than what you'd find in the wild, so it contains no NaN or otherwise missing values.\n",
    "\n",
    "So with that out of the way, let's take a closer look!"
   ]
  },
  {
   "cell_type": "markdown",
   "metadata": {},
   "source": [
    "## The bare necessities\n",
    "\n",
    "This next part, depending on algorithm, would normally be about data preparation before training, and that’s where `Feyn` comes to your aid. \n",
    "\n",
    "With `Feyn`, we've taken a page out of the pythonic stylebook, and one of the core features is the batteries-included approach of just being able to drop in a dataset, and start extracting `QGraphs`. All the rest happens under the hood.\n",
    "\n",
    "The only thing you need to consider is whether or not your column is:\n",
    "* Numerical\n",
    "* Categorical\n",
    "\n",
    "And that’s it. Let's take it for a spin!"
   ]
  },
  {
   "cell_type": "markdown",
   "metadata": {},
   "source": [
    "# Connection link established\n",
    "\n",
    "![hacker voice I'm in](https://media.giphy.com/media/3FQ87l4tXAZWGvV3yY/giphy.gif)\n",
    "\n",
    "Let's first connect to our QLattice. I'm using a local config file so I don't need to specify a token. You can run this without authentication in our [interactive JupyterLab environment](https://jupyter.abzu.ai), or locally using your own URL and Token to authenticate."
   ]
  },
  {
   "cell_type": "code",
   "execution_count": 2,
   "metadata": {},
   "outputs": [],
   "source": [
    "import feyn\n",
    "\n",
    "ql = feyn.QLattice(config=\"PizzaExample\")\n",
    "ql.reset()"
   ]
  },
  {
   "cell_type": "code",
   "execution_count": 3,
   "metadata": {},
   "outputs": [
    {
     "data": {
      "text/plain": [
       "'1.2.0'"
      ]
     },
     "execution_count": 3,
     "metadata": {},
     "output_type": "execute_result"
    }
   ],
   "source": [
    "feyn.__version__"
   ]
  },
  {
   "cell_type": "markdown",
   "metadata": {},
   "source": [
    "Let's have a look at our data types, and also present a helper function that creates a dict mapping your categorical input to what we call the 'categorical' semantic type. This function just guesses it based off of the pandas datatypes, but you could manually create it as well."
   ]
  },
  {
   "cell_type": "code",
   "execution_count": 4,
   "metadata": {},
   "outputs": [
    {
     "data": {
      "text/plain": [
       "type                object\n",
       "price                int64\n",
       "size                object\n",
       "vegetarian            bool\n",
       "dairy                 bool\n",
       "fish                  bool\n",
       "ingredient_count     int64\n",
       "dtype: object"
      ]
     },
     "execution_count": 4,
     "metadata": {},
     "output_type": "execute_result"
    }
   ],
   "source": [
    "pizza.dtypes"
   ]
  },
  {
   "cell_type": "code",
   "execution_count": 5,
   "metadata": {},
   "outputs": [],
   "source": [
    "def guess_categorical(df, ql):\n",
    "    cat_dict = dict()\n",
    "    for col in df.columns:\n",
    "        if df[col].dtype == 'object':\n",
    "            # Strings are categorical\n",
    "            cat_dict[col] = 'cat'\n",
    "    return cat_dict"
   ]
  },
  {
   "cell_type": "code",
   "execution_count": 6,
   "metadata": {},
   "outputs": [],
   "source": [
    "cats = guess_categorical(pizza, ql)"
   ]
  },
  {
   "cell_type": "markdown",
   "metadata": {},
   "source": [
    "And Bob's your uncle!"
   ]
  },
  {
   "cell_type": "markdown",
   "metadata": {},
   "source": [
    "## Wait, was that it?\n",
    "\n",
    "Yeah, that was really it. Now you just need to provide this dict in the stypes parameter when fitting your `QGraph`.\n",
    "\n",
    "Notice how we haven't even fed any data into it yet. So far, we've only been working on the conceptual level of the problem domain.\n",
    "\n",
    "That's pretty neat!"
   ]
  },
  {
   "cell_type": "markdown",
   "metadata": {},
   "source": [
    "# So let's train a model using the QLattice"
   ]
  },
  {
   "cell_type": "markdown",
   "metadata": {},
   "source": [
    "Let's just split the dataset into train and test for evaluation."
   ]
  },
  {
   "cell_type": "code",
   "execution_count": 7,
   "metadata": {},
   "outputs": [],
   "source": [
    "from sklearn.model_selection import train_test_split\n",
    "\n",
    "train, test = train_test_split(pizza, random_state=42)"
   ]
  },
  {
   "cell_type": "markdown",
   "metadata": {},
   "source": [
    "Next we'll run an update loop for our QLattice, training it on our pizza dataset to predict the price. We're gonna gloss over this, but [read the docs](https://docs.abzu.ai) if you're curious for more."
   ]
  },
  {
   "cell_type": "code",
   "execution_count": 8,
   "metadata": {},
   "outputs": [
    {
     "data": {
      "image/svg+xml": [
       "<svg baseProfile=\"tiny\" height=\"195.0\" version=\"1.2\" width=\"571\" xmlns=\"http://www.w3.org/2000/svg\" xmlns:ev=\"http://www.w3.org/2001/xml-events\" xmlns:xlink=\"http://www.w3.org/1999/xlink\"><defs/><rect fill=\"#00F082\" height=\"30\" stroke=\"#808080\" stroke-width=\"1\" width=\"80\" x=\"1\" y=\"5.0\"><title>(6, -1, -1)\n",
       "minmax\n",
       "min: 1.00\n",
       "max: 9.00</title></rect><text fill=\"#202020\" font-family=\"monospace\" font-size=\"11\" text-anchor=\"middle\" x=\"41.0\" y=\"24.0\">ingredient..</text><rect fill=\"#00F082\" height=\"30\" stroke=\"#808080\" stroke-width=\"1\" width=\"80\" x=\"1\" y=\"65.0\"><title>(0, -1, -1)\n",
       "type\n",
       "categorical with 5 values</title></rect><text fill=\"#202020\" font-family=\"monospace\" font-size=\"11\" text-anchor=\"middle\" x=\"41.0\" y=\"84.0\">type</text><rect fill=\"#00F082\" height=\"30\" stroke=\"#808080\" stroke-width=\"1\" width=\"80\" x=\"1\" y=\"125.0\"><title>(2, -1, -1)\n",
       "size\n",
       "categorical with 3 values</title></rect><text fill=\"#202020\" font-family=\"monospace\" font-size=\"11\" text-anchor=\"middle\" x=\"41.0\" y=\"144.0\">size</text><rect fill=\"#FAFAFA\" height=\"30\" stroke=\"#ff1ec8\" stroke-width=\"1\" width=\"80\" x=\"121\" y=\"35.0\"><title>(1, 16, 6)\n",
       "w: -0.78\n",
       "bias: -1.29</title></rect><text fill=\"#202020\" font-family=\"monospace\" font-size=\"11\" text-anchor=\"middle\" x=\"161.0\" y=\"54.0\">tanh</text><line stroke=\"#c0c0c0\" x1=\"81\" x2=\"121\" y1=\"20.0\" y2=\"50.0\"/><text fill=\"#202020\" font-family=\"monospace\" font-size=\"7\" text-anchor=\"middle\" x=\"126\" y=\"53.0\">x0</text><rect fill=\"#FAFAFA\" height=\"30\" stroke=\"#ff1ec8\" stroke-width=\"1\" width=\"80\" x=\"121\" y=\"95.0\"><title>(1, 16, 5)\n",
       "cell:multiply(i,i)-&gt;i</title></rect><text fill=\"#202020\" font-family=\"monospace\" font-size=\"11\" text-anchor=\"middle\" x=\"161.0\" y=\"114.0\">multiply</text><line stroke=\"#c0c0c0\" x1=\"81\" x2=\"121\" y1=\"140.0\" y2=\"119.0\"/><text fill=\"#202020\" font-family=\"monospace\" font-size=\"7\" text-anchor=\"middle\" x=\"126\" y=\"122.0\">x0</text><line stroke=\"#c0c0c0\" x1=\"81\" x2=\"121\" y1=\"80.0\" y2=\"101.0\"/><text fill=\"#202020\" font-family=\"monospace\" font-size=\"7\" text-anchor=\"middle\" x=\"126\" y=\"104.0\">x1</text><rect fill=\"#FAFAFA\" height=\"30\" stroke=\"#ff1ec8\" stroke-width=\"1\" width=\"80\" x=\"241\" y=\"35.0\"><title>(2, 15, 6)\n",
       "w: 1.02\n",
       "bias: 1.92</title></rect><text fill=\"#202020\" font-family=\"monospace\" font-size=\"11\" text-anchor=\"middle\" x=\"281.0\" y=\"54.0\">tanh</text><line stroke=\"#c0c0c0\" x1=\"201\" x2=\"241\" y1=\"50.0\" y2=\"50.0\"/><text fill=\"#202020\" font-family=\"monospace\" font-size=\"7\" text-anchor=\"middle\" x=\"246\" y=\"53.0\">x0</text><rect fill=\"#FAFAFA\" height=\"30\" stroke=\"#ff1ec8\" stroke-width=\"1\" width=\"80\" x=\"241\" y=\"95.0\"><title>(2, 15, 5)\n",
       "cell:multiply(i,i)-&gt;i</title></rect><text fill=\"#202020\" font-family=\"monospace\" font-size=\"11\" text-anchor=\"middle\" x=\"281.0\" y=\"114.0\">multiply</text><line stroke=\"#c0c0c0\" x1=\"201\" x2=\"241\" y1=\"110.0\" y2=\"119.0\"/><text fill=\"#202020\" font-family=\"monospace\" font-size=\"7\" text-anchor=\"middle\" x=\"246\" y=\"122.0\">x0</text><line stroke=\"#c0c0c0\" x1=\"201\" x2=\"241\" y1=\"50.0\" y2=\"101.0\"/><text fill=\"#202020\" font-family=\"monospace\" font-size=\"7\" text-anchor=\"middle\" x=\"246\" y=\"104.0\">x1</text><rect fill=\"#FAFAFA\" height=\"30\" stroke=\"#ff1ec8\" stroke-width=\"1\" width=\"80\" x=\"361\" y=\"65.0\"><title>(3, 15, 6)\n",
       "w0: -2.52\n",
       "w1: -2.04\n",
       "bias: 1.29</title></rect><text fill=\"#202020\" font-family=\"monospace\" font-size=\"11\" text-anchor=\"middle\" x=\"401.0\" y=\"84.0\">linear</text><line stroke=\"#c0c0c0\" x1=\"321\" x2=\"361\" y1=\"110.0\" y2=\"89.0\"/><text fill=\"#202020\" font-family=\"monospace\" font-size=\"7\" text-anchor=\"middle\" x=\"366\" y=\"92.0\">x0</text><line stroke=\"#c0c0c0\" x1=\"321\" x2=\"361\" y1=\"50.0\" y2=\"71.0\"/><text fill=\"#202020\" font-family=\"monospace\" font-size=\"7\" text-anchor=\"middle\" x=\"366\" y=\"74.0\">x1</text><rect fill=\"#00F082\" height=\"30\" stroke=\"#808080\" stroke-width=\"1\" width=\"80\" x=\"481\" y=\"65.0\"><title>(4, 16, 7)\n",
       "minmax\n",
       "min: 19.00\n",
       "max: 133.00</title></rect><text fill=\"#202020\" font-family=\"monospace\" font-size=\"11\" text-anchor=\"middle\" x=\"521.0\" y=\"84.0\">price</text><line stroke=\"#c0c0c0\" x1=\"441\" x2=\"481\" y1=\"80.0\" y2=\"80.0\"/><text fill=\"#202020\" font-family=\"monospace\" font-size=\"7\" text-anchor=\"middle\" x=\"486\" y=\"83.0\">x0</text><text fill=\"#202020\" font-family=\"monospace\" font-size=\"12\" x=\"0\" y=\"183.0\">Fitting 10: 100% completed. Best loss so far: 82.453442</text><text fill=\"#202020\" font-family=\"monospace\" font-size=\"11\" text-anchor=\"middle\" x=\"521.0\" y=\"107.0\">Loss: 8.25E+01</text></svg>"
      ],
      "text/plain": [
       "<IPython.core.display.SVG object>"
      ]
     },
     "metadata": {},
     "output_type": "display_data"
    }
   ],
   "source": [
    "#The number of update loops we are going to perform\n",
    "updates = 10\n",
    "\n",
    "# First extract the QGraph using data columns to denote inputs and output\n",
    "# Note the stypes=cats points to our categorical mapping further up.\n",
    "qgraph = ql.get_qgraph(pizza.columns, output=\"price\", stypes=cats, max_depth=3)\n",
    "\n",
    "for loop in range(updates):\n",
    "    # Fit each model in the QGraph\n",
    "    qgraph.fit(train) \n",
    "    \n",
    "    # Select the best model after training\n",
    "    best = qgraph.sort(train)[0] \n",
    "    \n",
    "    # Update the QLattice with the best model\n",
    "    ql.update(best)"
   ]
  },
  {
   "cell_type": "markdown",
   "metadata": {},
   "source": [
    "Without getting into too much detail on the fitting process, what it does is it always shows the currently best performing graph. After finally sorting by train loss and getting the best graph, this can be a different graph, which we show below"
   ]
  },
  {
   "cell_type": "code",
   "execution_count": 9,
   "metadata": {},
   "outputs": [
    {
     "data": {
      "image/svg+xml": [
       "<?xml version=\"1.0\" encoding=\"utf-8\" ?>\n",
       "<svg baseProfile=\"tiny\" height=\"315.0\" version=\"1.2\" width=\"571\" xmlns=\"http://www.w3.org/2000/svg\" xmlns:ev=\"http://www.w3.org/2001/xml-events\" xmlns:xlink=\"http://www.w3.org/1999/xlink\"><defs /><rect fill=\"#00F082\" height=\"30\" stroke=\"#808080\" stroke-width=\"1\" width=\"80\" x=\"1\" y=\"5.0\"><title>(4, -1, -1)\n",
       "minmax\n",
       "min: 0.00\n",
       "max: 1.00</title></rect><text fill=\"#202020\" font-family=\"monospace\" font-size=\"11\" text-anchor=\"middle\" x=\"41.0\" y=\"24.0\">dairy</text><rect fill=\"#00F082\" height=\"30\" stroke=\"#808080\" stroke-width=\"1\" width=\"80\" x=\"1\" y=\"65.0\"><title>(2, -1, -1)\n",
       "size\n",
       "categorical with 3 values</title></rect><text fill=\"#202020\" font-family=\"monospace\" font-size=\"11\" text-anchor=\"middle\" x=\"41.0\" y=\"84.0\">size</text><rect fill=\"#00F082\" height=\"30\" stroke=\"#808080\" stroke-width=\"1\" width=\"80\" x=\"1\" y=\"125.0\"><title>(6, -1, -1)\n",
       "minmax\n",
       "min: 1.00\n",
       "max: 9.00</title></rect><text fill=\"#202020\" font-family=\"monospace\" font-size=\"11\" text-anchor=\"middle\" x=\"41.0\" y=\"144.0\">ingredient..</text><rect fill=\"#00F082\" height=\"30\" stroke=\"#808080\" stroke-width=\"1\" width=\"80\" x=\"1\" y=\"185.0\"><title>(0, -1, -1)\n",
       "type\n",
       "categorical with 5 values</title></rect><text fill=\"#202020\" font-family=\"monospace\" font-size=\"11\" text-anchor=\"middle\" x=\"41.0\" y=\"204.0\">type</text><rect fill=\"#00F082\" height=\"30\" stroke=\"#808080\" stroke-width=\"1\" width=\"80\" x=\"1\" y=\"245.0\"><title>(3, -1, -1)\n",
       "minmax\n",
       "min: 0.00\n",
       "max: 1.00</title></rect><text fill=\"#202020\" font-family=\"monospace\" font-size=\"11\" text-anchor=\"middle\" x=\"41.0\" y=\"264.0\">vegetarian</text><rect fill=\"#FAFAFA\" height=\"30\" stroke=\"#ff1ec8\" stroke-width=\"1\" width=\"80\" x=\"121\" y=\"35.0\"><title>(15, 3, 1)\n",
       "cell:multiply(i,i)-&gt;i</title></rect><text fill=\"#202020\" font-family=\"monospace\" font-size=\"11\" text-anchor=\"middle\" x=\"161.0\" y=\"54.0\">multiply</text><line stroke=\"#c0c0c0\" x1=\"81\" x2=\"121\" y1=\"20.0\" y2=\"59.0\" /><text fill=\"#202020\" font-family=\"monospace\" font-size=\"7\" text-anchor=\"middle\" x=\"126\" y=\"62.0\">x0</text><line stroke=\"#c0c0c0\" x1=\"81\" x2=\"121\" y1=\"20.0\" y2=\"41.0\" /><text fill=\"#202020\" font-family=\"monospace\" font-size=\"7\" text-anchor=\"middle\" x=\"126\" y=\"44.0\">x1</text><rect fill=\"#FAFAFA\" height=\"30\" stroke=\"#ff1ec8\" stroke-width=\"1\" width=\"80\" x=\"121\" y=\"95.0\"><title>(15, 3, 0)\n",
       "w0: -0.31\n",
       "w1: -3.07\n",
       "bias: 1.64</title></rect><text fill=\"#202020\" font-family=\"monospace\" font-size=\"11\" text-anchor=\"middle\" x=\"161.0\" y=\"114.0\">tanh</text><line stroke=\"#c0c0c0\" x1=\"81\" x2=\"121\" y1=\"140.0\" y2=\"119.0\" /><text fill=\"#202020\" font-family=\"monospace\" font-size=\"7\" text-anchor=\"middle\" x=\"126\" y=\"122.0\">x0</text><line stroke=\"#c0c0c0\" x1=\"81\" x2=\"121\" y1=\"80.0\" y2=\"101.0\" /><text fill=\"#202020\" font-family=\"monospace\" font-size=\"7\" text-anchor=\"middle\" x=\"126\" y=\"104.0\">x1</text><rect fill=\"#FAFAFA\" height=\"30\" stroke=\"#ff1ec8\" stroke-width=\"1\" width=\"80\" x=\"121\" y=\"155.0\"><title>(15, 5, 1)\n",
       "center: 0.49\n",
       "width: 0.30</title></rect><text fill=\"#202020\" font-family=\"monospace\" font-size=\"11\" text-anchor=\"middle\" x=\"161.0\" y=\"174.0\">gaussian</text><line stroke=\"#c0c0c0\" x1=\"81\" x2=\"121\" y1=\"200.0\" y2=\"170.0\" /><text fill=\"#202020\" font-family=\"monospace\" font-size=\"7\" text-anchor=\"middle\" x=\"126\" y=\"173.0\">x0</text><rect fill=\"#FAFAFA\" height=\"30\" stroke=\"#ff1ec8\" stroke-width=\"1\" width=\"80\" x=\"121\" y=\"215.0\"><title>(15, 4, 1)\n",
       "center: 0.42\n",
       "width: 0.16</title></rect><text fill=\"#202020\" font-family=\"monospace\" font-size=\"11\" text-anchor=\"middle\" x=\"161.0\" y=\"234.0\">gaussian</text><line stroke=\"#c0c0c0\" x1=\"81\" x2=\"121\" y1=\"260.0\" y2=\"230.0\" /><text fill=\"#202020\" font-family=\"monospace\" font-size=\"7\" text-anchor=\"middle\" x=\"126\" y=\"233.0\">x0</text><rect fill=\"#FAFAFA\" height=\"30\" stroke=\"#ff1ec8\" stroke-width=\"1\" width=\"80\" x=\"241\" y=\"95.0\"><title>(16, 3, 1)\n",
       "center: 0.51, 0.64\n",
       "width: 0.21, 0.16</title></rect><text fill=\"#202020\" font-family=\"monospace\" font-size=\"11\" text-anchor=\"middle\" x=\"281.0\" y=\"114.0\">gaussian</text><line stroke=\"#c0c0c0\" x1=\"201\" x2=\"241\" y1=\"110.0\" y2=\"119.0\" /><text fill=\"#202020\" font-family=\"monospace\" font-size=\"7\" text-anchor=\"middle\" x=\"246\" y=\"122.0\">x0</text><line stroke=\"#c0c0c0\" x1=\"201\" x2=\"241\" y1=\"50.0\" y2=\"101.0\" /><text fill=\"#202020\" font-family=\"monospace\" font-size=\"7\" text-anchor=\"middle\" x=\"246\" y=\"104.0\">x1</text><rect fill=\"#FAFAFA\" height=\"30\" stroke=\"#ff1ec8\" stroke-width=\"1\" width=\"80\" x=\"241\" y=\"155.0\"><title>(16, 5, 0)\n",
       "w0: 0.59\n",
       "w1: 0.70\n",
       "bias: 0.48</title></rect><text fill=\"#202020\" font-family=\"monospace\" font-size=\"11\" text-anchor=\"middle\" x=\"281.0\" y=\"174.0\">tanh</text><line stroke=\"#c0c0c0\" x1=\"201\" x2=\"241\" y1=\"230.0\" y2=\"179.0\" /><text fill=\"#202020\" font-family=\"monospace\" font-size=\"7\" text-anchor=\"middle\" x=\"246\" y=\"182.0\">x0</text><line stroke=\"#c0c0c0\" x1=\"201\" x2=\"241\" y1=\"170.0\" y2=\"161.0\" /><text fill=\"#202020\" font-family=\"monospace\" font-size=\"7\" text-anchor=\"middle\" x=\"246\" y=\"164.0\">x1</text><rect fill=\"#FAFAFA\" height=\"30\" stroke=\"#ff1ec8\" stroke-width=\"1\" width=\"80\" x=\"361\" y=\"125.0\"><title>(17, 4, 7)\n",
       "w0: -1.71\n",
       "w1: 4.35\n",
       "bias: -0.29</title></rect><text fill=\"#202020\" font-family=\"monospace\" font-size=\"11\" text-anchor=\"middle\" x=\"401.0\" y=\"144.0\">linear</text><line stroke=\"#c0c0c0\" x1=\"321\" x2=\"361\" y1=\"170.0\" y2=\"149.0\" /><text fill=\"#202020\" font-family=\"monospace\" font-size=\"7\" text-anchor=\"middle\" x=\"366\" y=\"152.0\">x0</text><line stroke=\"#c0c0c0\" x1=\"321\" x2=\"361\" y1=\"110.0\" y2=\"131.0\" /><text fill=\"#202020\" font-family=\"monospace\" font-size=\"7\" text-anchor=\"middle\" x=\"366\" y=\"134.0\">x1</text><rect fill=\"#00F082\" height=\"30\" stroke=\"#808080\" stroke-width=\"1\" width=\"80\" x=\"481\" y=\"125.0\"><title>(18, 4, 7)\n",
       "minmax\n",
       "min: 19.00\n",
       "max: 133.00</title></rect><text fill=\"#202020\" font-family=\"monospace\" font-size=\"11\" text-anchor=\"middle\" x=\"521.0\" y=\"144.0\">price</text><line stroke=\"#c0c0c0\" x1=\"441\" x2=\"481\" y1=\"140.0\" y2=\"140.0\" /><text fill=\"#202020\" font-family=\"monospace\" font-size=\"7\" text-anchor=\"middle\" x=\"486\" y=\"143.0\">x0</text><text fill=\"#202020\" font-family=\"monospace\" font-size=\"11\" text-anchor=\"middle\" x=\"521.0\" y=\"167.0\">Loss: 7.55E+01</text></svg>"
      ],
      "text/plain": [
       "_feyn.Graph (13 interactions)"
      ]
     },
     "execution_count": 9,
     "metadata": {},
     "output_type": "execute_result"
    }
   ],
   "source": [
    "best"
   ]
  },
  {
   "cell_type": "markdown",
   "metadata": {},
   "source": [
    "## Let's quickly evaluate the solution\n",
    "\n",
    "It's important to stop and check that what we have makes sense, so let's check out the RMSE on the train and test set. The prices are in DKK."
   ]
  },
  {
   "cell_type": "code",
   "execution_count": 10,
   "metadata": {},
   "outputs": [],
   "source": [
    "import numpy as np"
   ]
  },
  {
   "cell_type": "code",
   "execution_count": 11,
   "metadata": {},
   "outputs": [],
   "source": [
    "def rmse(pred, truth):\n",
    "    return np.sqrt(((pred - truth)**2).mean())\n",
    "\n",
    "pred_train = best.predict(train)\n",
    "pred_test = best.predict(test)"
   ]
  },
  {
   "cell_type": "code",
   "execution_count": 12,
   "metadata": {},
   "outputs": [
    {
     "data": {
      "text/plain": [
       "8.688198938732636"
      ]
     },
     "execution_count": 12,
     "metadata": {},
     "output_type": "execute_result"
    }
   ],
   "source": [
    "rmse(pred_train, train.price)"
   ]
  },
  {
   "cell_type": "code",
   "execution_count": 13,
   "metadata": {},
   "outputs": [
    {
     "data": {
      "text/plain": [
       "13.48993755016472"
      ]
     },
     "execution_count": 13,
     "metadata": {},
     "output_type": "execute_result"
    }
   ],
   "source": [
    "rmse(pred_test, test.price)"
   ]
  },
  {
   "cell_type": "markdown",
   "metadata": {},
   "source": [
    "We see a slight bit of overfitting, but good enough for our purposes.\n",
    "Let's plot it real quick."
   ]
  },
  {
   "cell_type": "code",
   "execution_count": 14,
   "metadata": {
    "scrolled": true
   },
   "outputs": [
    {
     "data": {
      "image/png": "[encoded data removed]",
      "text/plain": [
       "<Figure size 432x288 with 1 Axes>"
      ]
     },
     "metadata": {
      "needs_background": "light"
     },
     "output_type": "display_data"
    }
   ],
   "source": [
    "from feyn import tools\n",
    "tools.plot_regression_metrics(test.price, pred_test)"
   ]
  },
  {
   "cell_type": "markdown",
   "metadata": {},
   "source": [
    "## Looking into the semantic types\n",
    "\n",
    "![registers](https://media.giphy.com/media/l2JebahZUckTgBfUY/giphy.gif)"
   ]
  },
  {
   "cell_type": "markdown",
   "metadata": {},
   "source": [
    "Since the exact graph can change between runs and we can't guarantee ordering of cells, or even that they're present, I've declared a simple function to help us inspect the graphs, but let's back up first with some theory."
   ]
  },
  {
   "cell_type": "code",
   "execution_count": 15,
   "metadata": {},
   "outputs": [],
   "source": [
    "from IPython.display import display\n",
    "def display_state(graph, name):\n",
    "    \"\"\" A little helper function to inspect the state \"\"\"\n",
    "    for interaction in graph:\n",
    "        if interaction.name == name:            \n",
    "            display(f\"Name: {interaction.name}\")\n",
    "            display(interaction.state._to_dict())\n",
    "            break"
   ]
  },
  {
   "cell_type": "markdown",
   "metadata": {},
   "source": [
    "`Feyn` has two kinds of `stypes`, the `numerical` and `categorical` `semantic type`."
   ]
  },
  {
   "cell_type": "markdown",
   "metadata": {},
   "source": [
    "## The numerical semantic type\n",
    "\n",
    "The default behaviour in `Feyn` is standardisation, using something like the MinMaxScaler you might already know and love from `sklearn`. It works on a register level, and auto-scales your inputs to be within -1 and 1 based on the minimum and maximum value it sees. The output register has the exact same behaviour, but also ensures that your output is automatically destandardised to your expected values.\n",
    "\n",
    "Let's look at the ones from our trained graph:"
   ]
  },
  {
   "cell_type": "code",
   "execution_count": 16,
   "metadata": {
    "scrolled": true
   },
   "outputs": [
    {
     "data": {
      "text/plain": [
       "'Name: ingredient_count'"
      ]
     },
     "metadata": {},
     "output_type": "display_data"
    },
    {
     "data": {
      "text/plain": [
       "{'feature_min': 1.0, 'feature_max': 9.0, 'auto_adapt': True}"
      ]
     },
     "metadata": {},
     "output_type": "display_data"
    }
   ],
   "source": [
    "display_state(best, 'ingredient_count')"
   ]
  },
  {
   "cell_type": "markdown",
   "metadata": {},
   "source": [
    "The first interaction in the graph is 'ingredient_count', and as you can read from the state, it has detected the minimum value 1.0 and the maximum value of 9."
   ]
  },
  {
   "cell_type": "code",
   "execution_count": 17,
   "metadata": {},
   "outputs": [
    {
     "data": {
      "text/plain": [
       "'Name: vegetarian'"
      ]
     },
     "metadata": {},
     "output_type": "display_data"
    },
    {
     "data": {
      "text/plain": [
       "{'feature_min': 0.0, 'feature_max': 1.0, 'auto_adapt': True}"
      ]
     },
     "metadata": {},
     "output_type": "display_data"
    }
   ],
   "source": [
    "display_state(best, 'vegetarian')"
   ]
  },
  {
   "cell_type": "markdown",
   "metadata": {},
   "source": [
    "The second interaction is 'vegetarian', which is a boolean feature, and `Feyn` has detected the min value of 0 and max value of 1. So this has just resulted in a recentering around 0."
   ]
  },
  {
   "cell_type": "markdown",
   "metadata": {},
   "source": [
    "## The categorical semantic type\n",
    "\n",
    "![the category is love](https://media.giphy.com/media/ggooIjlyc1EG2QxkeS/giphy.gif)\n",
    "\n",
    "So what's the magic behind the variables? The `categorical semantic type` is essentially a kind of auto-adapting one-hot encoding. Let's take an example:\n",
    "\n",
    "Suppose you have the pizza menu, and you have three types of pizza offers: `regular`, `family` and `lunch`. A traditional one-hot encoding approach would convert these into three mutually exclusive features: `is_regular`, `is_family`, and `is_lunch`.\n",
    "\n",
    "What `Feyn` does is similar, but instead assigns a weight to each category that will be adjusted during training. So when you pass in a pizza that is family-sized, it'll use the weights for family-sized pizzas, and the same for regular and lunch offers. Unlike one-hot encoding, all of this happens within the same feature node.\n",
    "\n",
    "Let's get real:"
   ]
  },
  {
   "cell_type": "code",
   "execution_count": 18,
   "metadata": {},
   "outputs": [
    {
     "data": {
      "text/plain": [
       "'Name: size'"
      ]
     },
     "metadata": {},
     "output_type": "display_data"
    },
    {
     "data": {
      "text/plain": [
       "{'categories': [('lunch', -0.5290920195420976),\n",
       "  ('regular', 0.07793374379814877),\n",
       "  ('family', 0.28942957434802774)]}"
      ]
     },
     "metadata": {},
     "output_type": "display_data"
    }
   ],
   "source": [
    "display_state(best, 'size')"
   ]
  },
  {
   "cell_type": "markdown",
   "metadata": {},
   "source": [
    "We can see for this interaction that it has learned a weight for each feature value. By looking at this, we can also see which values drive higher separation. For instance, 'family' has learned a high weight (close to 1), regular is a bit to the positive side of 0 (the center) and 'lunch' has a slight negative weight.\n",
    "\n",
    "Interpreting this requires you to look at the full graph, but we see clear separation already where we can guess that family and regular drive higher prices than lunch."
   ]
  },
  {
   "cell_type": "code",
   "execution_count": 19,
   "metadata": {},
   "outputs": [
    {
     "data": {
      "text/plain": [
       "'Name: type'"
      ]
     },
     "metadata": {},
     "output_type": "display_data"
    },
    {
     "data": {
      "text/plain": [
       "{'categories': [('Panini', -0.20331584135126946),\n",
       "  ('Pizza', -0.40433235139414725),\n",
       "  ('Salad', 0.003917517012023808),\n",
       "  ('Pasta', -0.4284522321873805),\n",
       "  ('Starter', 0.2604060329575404)]}"
      ]
     },
     "metadata": {},
     "output_type": "display_data"
    }
   ],
   "source": [
    "display_state(best, 'type')"
   ]
  },
  {
   "cell_type": "markdown",
   "metadata": {},
   "source": [
    "The same as above is experienced on the type, where we can see pizzas and pasta commanding higher separation than salads and paninis, and the starters driving to the negative, gisting at lowering the prediction for price."
   ]
  },
  {
   "cell_type": "markdown",
   "metadata": {},
   "source": [
    "## So what does this mean?\n",
    "\n",
    "[In this post, we dive even deeper](https://medium.com/abzuai/opening-the-black-box-247a63ce553e) into the graphs. We'll also further explore how to get insights into your graphs in future series. Hopefully, you've learned something new on how the semantic types save you time with data preprocessing, and how the categorical semantic type can even help you on the way of getting insights out of your data and models you wouldn't have seen otherwise.\n",
    "\n",
    "You'll also have more insights the next time you order a pizza with three extra servings of cheese and you wonder about the price spike.\n",
    "\n",
    "If you're tempted to take a look yourself, [head on over here and sign up for a QLattice!](https://abzu.ai/sign-up/?code=datasciencemedium)"
   ]
  }
 ],
 "metadata": {
  "kernelspec": {
   "display_name": "Python 3",
   "language": "python",
   "name": "python3"
  },
  "language_info": {
   "codemirror_mode": {
    "name": "ipython",
    "version": 3
   },
   "file_extension": ".py",
   "mimetype": "text/x-python",
   "name": "python",
   "nbconvert_exporter": "python",
   "pygments_lexer": "ipython3",
   "version": "3.7.3"
  }
 },
 "nbformat": 4,
 "nbformat_minor": 4
}
